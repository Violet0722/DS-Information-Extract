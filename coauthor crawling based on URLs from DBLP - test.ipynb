{
 "cells": [
  {
   "cell_type": "markdown",
   "id": "8e6623d2",
   "metadata": {},
   "source": [
    "# A test for coauthor data crawling"
   ]
  },
  {
   "cell_type": "code",
   "execution_count": 8,
   "id": "3e048a11",
   "metadata": {},
   "outputs": [],
   "source": [
    "import urllib.request\n",
    "import xml.etree.ElementTree\n",
    "import pandas as pd"
   ]
  },
  {
   "cell_type": "code",
   "execution_count": null,
   "id": "d389075d",
   "metadata": {},
   "outputs": [],
   "source": [
    "# upload the file\n",
    "df = pd.read_csv(\"./insight-member-name.csv\")\n",
    "df = df.head(5)\n",
    "pids = df[\"PID\"]"
   ]
  },
  {
   "cell_type": "code",
   "execution_count": 9,
   "id": "7e82ac9d",
   "metadata": {},
   "outputs": [
    {
     "data": {
      "text/html": [
       "<div>\n",
       "<style scoped>\n",
       "    .dataframe tbody tr th:only-of-type {\n",
       "        vertical-align: middle;\n",
       "    }\n",
       "\n",
       "    .dataframe tbody tr th {\n",
       "        vertical-align: top;\n",
       "    }\n",
       "\n",
       "    .dataframe thead th {\n",
       "        text-align: right;\n",
       "    }\n",
       "</style>\n",
       "<table border=\"1\" class=\"dataframe\">\n",
       "  <thead>\n",
       "    <tr style=\"text-align: right;\">\n",
       "      <th></th>\n",
       "      <th>First Name</th>\n",
       "      <th>Last Name</th>\n",
       "      <th>PID</th>\n",
       "    </tr>\n",
       "  </thead>\n",
       "  <tbody>\n",
       "    <tr>\n",
       "      <th>0</th>\n",
       "      <td>Sonya</td>\n",
       "      <td>Abbas</td>\n",
       "      <td>133/2469</td>\n",
       "    </tr>\n",
       "    <tr>\n",
       "      <th>1</th>\n",
       "      <td>Hazem</td>\n",
       "      <td>Abdelaal</td>\n",
       "      <td>249/7357</td>\n",
       "    </tr>\n",
       "    <tr>\n",
       "      <th>2</th>\n",
       "      <td>Ahmed</td>\n",
       "      <td>Abdelkader</td>\n",
       "      <td>72/7860</td>\n",
       "    </tr>\n",
       "    <tr>\n",
       "      <th>3</th>\n",
       "      <td>Samane</td>\n",
       "      <td>Abdi</td>\n",
       "      <td>116/4989</td>\n",
       "    </tr>\n",
       "    <tr>\n",
       "      <th>4</th>\n",
       "      <td>Himan</td>\n",
       "      <td>Abdollahpouri</td>\n",
       "      <td>184/2105</td>\n",
       "    </tr>\n",
       "  </tbody>\n",
       "</table>\n",
       "</div>"
      ],
      "text/plain": [
       "  First Name      Last Name       PID\n",
       "0      Sonya          Abbas  133/2469\n",
       "1      Hazem       Abdelaal  249/7357\n",
       "2      Ahmed     Abdelkader   72/7860\n",
       "3     Samane           Abdi  116/4989\n",
       "4      Himan  Abdollahpouri  184/2105"
      ]
     },
     "execution_count": 9,
     "metadata": {},
     "output_type": "execute_result"
    }
   ],
   "source": [
    "df"
   ]
  },
  {
   "cell_type": "code",
   "execution_count": 10,
   "id": "27b91f7f",
   "metadata": {},
   "outputs": [
    {
     "name": "stdout",
     "output_type": "stream",
     "text": [
      "https://dblp.org/pid/133/2469.xml\n",
      "https://dblp.org/pid/249/7357.xml\n",
      "https://dblp.org/pid/72/7860.xml\n",
      "https://dblp.org/pid/116/4989.xml\n",
      "https://dblp.org/pid/184/2105.xml\n"
     ]
    }
   ],
   "source": [
    "# crawl the data related to coauthor based the urls of the author \n",
    "for pid in pids:\n",
    "    url = \"https://dblp.org/pid/\"+pid+\".xml\"\n",
    "    print(url)\n",
    "    response = urllib.request.urlopen(url)\n",
    "    raw_xml = response.read().decode()\n",
    "    tree = xml.etree.ElementTree.fromstring(raw_xml)\n",
    "    FileName = tree.attrib.get(\"name\")\n",
    "    rows = []\n",
    "    for child in tree.findall(\"r\"):\n",
    "        for xchild in child.findall('article'):\n",
    "            author_pid = xchild.findall(\"author\")\n",
    "            for author_pid in xchild.findall(\"author\"): \n",
    "                Author = author_pid.text\n",
    "                Title = xchild.find(\"title\")\n",
    "                row = { \"Title\": Title.text,\"PublicationID\" : xchild.attrib.get(\"key\"), \"AuthorPID\" : author_pid.attrib.get(\"pid\"),\"AuthorORCID\" : author_pid.attrib.get(\"orcid\"),\n",
    "                      \"AuthorName\": author_pid.text}\n",
    "                rows.append(row)\n",
    "\n",
    "    pd.DataFrame(rows).to_csv(\"C:\\\\Users\\\\lenovo\\\\Desktop\\\\Google\\\\dblp\\\\python-files\\\\coauthor_new_1\\\\\"+FileName+\".csv\",index=False,encoding=\"utf-8_sig\")"
   ]
  }
 ],
 "metadata": {
  "kernelspec": {
   "display_name": "Python 3",
   "language": "python",
   "name": "python3"
  },
  "language_info": {
   "codemirror_mode": {
    "name": "ipython",
    "version": 3
   },
   "file_extension": ".py",
   "mimetype": "text/x-python",
   "name": "python",
   "nbconvert_exporter": "python",
   "pygments_lexer": "ipython3",
   "version": "3.6.13"
  }
 },
 "nbformat": 4,
 "nbformat_minor": 5
}

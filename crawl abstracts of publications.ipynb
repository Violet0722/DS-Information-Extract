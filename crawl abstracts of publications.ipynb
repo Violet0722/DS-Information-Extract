{
 "cells": [
  {
   "cell_type": "markdown",
   "id": "34c5cd44",
   "metadata": {},
   "source": [
    "# Crawl data from different websites\n",
    "Python Script for crawling publiation's abstracts from five diffrerent websites."
   ]
  },
  {
   "cell_type": "code",
   "execution_count": 1,
   "id": "c7fc8a53",
   "metadata": {},
   "outputs": [
    {
     "name": "stderr",
     "output_type": "stream",
     "text": [
      "D:\\Anaconda\\envs\\tensorflow1.4\\lib\\site-packages\\requests\\__init__.py:104: RequestsDependencyWarning: urllib3 (1.26.9) or chardet (5.0.0)/charset_normalizer (2.0.12) doesn't match a supported version!\n",
      "  RequestsDependencyWarning)\n"
     ]
    }
   ],
   "source": [
    "import time\n",
    "import json\n",
    "import httpx\n",
    "import urllib.request\n",
    "import pandas as pd\n",
    "import requests\n",
    "from bs4 import BeautifulSoup\n",
    "from lxml import etree"
   ]
  },
  {
   "cell_type": "code",
   "execution_count": 2,
   "id": "2d5571fc",
   "metadata": {},
   "outputs": [],
   "source": [
    "sciencedirect_apikey = 'your sciencedirect apikey'"
   ]
  },
  {
   "cell_type": "code",
   "execution_count": 3,
   "id": "30e6814d",
   "metadata": {},
   "outputs": [],
   "source": [
    "springer_key = 'your springer apikey'"
   ]
  },
  {
   "cell_type": "code",
   "execution_count": 4,
   "id": "e607873d",
   "metadata": {},
   "outputs": [
    {
     "data": {
      "text/plain": [
       "0                https://arxiv.org/abs/2108.03555\n",
       "1    https://doi.org/10.1109/AIVR50618.2020.00019\n",
       "2         https://doi.org/10.1145/3106426.3106490\n",
       "3    https://doi.org/10.1007/978-3-030-37734-2_34\n",
       "4       https://doi.org/10.48550/arXiv.2203.08878\n",
       "5      https://dl.acm.org/citation.cfm?id=2799675\n",
       "6    https://ieeexplore.ieee.org/document/7944787\n",
       "7    https://doi.org/10.1016/j.jksuci.2019.04.004\n",
       "Name: url, dtype: object"
      ]
     },
     "execution_count": 4,
     "metadata": {},
     "output_type": "execute_result"
    }
   ],
   "source": [
    "#  Read file information\n",
    "df = pd.read_csv(\"./combined_urls.csv\")\n",
    "urls = df[\"url\"]\n",
    "urls.head(8)"
   ]
  },
  {
   "cell_type": "code",
   "execution_count": 5,
   "id": "f9175060",
   "metadata": {},
   "outputs": [],
   "source": [
    "def ieee_abstract(url):\n",
    "    try:\n",
    "        response = requests.get(url)\n",
    "        #print(response.status_code)\n",
    "        soup = BeautifulSoup(response.text,\"html.parser\")\n",
    "        content = soup.head\n",
    "        abstract = content.find(attrs={'property': 'og:description'}).get(\"content\")\n",
    "        abstract = abstract.replace('\\n', '') \n",
    "        return(abstract)\n",
    "    except:\n",
    "        print(\"It could be something wrong.\")\n",
    "        return 0"
   ]
  },
  {
   "cell_type": "code",
   "execution_count": 6,
   "id": "f39e4074",
   "metadata": {},
   "outputs": [],
   "source": [
    "def arxiv_abstract(url):\n",
    "    try:\n",
    "        response = requests.get(url)\n",
    "        #print(response.status_code)\n",
    "        soup = BeautifulSoup(response.text,\"html.parser\")\n",
    "        content = soup.head\n",
    "        abstract = content.find(attrs={'name': 'citation_abstract'}).get(\"content\")\n",
    "        abstract = abstract.replace('\\n', '') \n",
    "        return(abstract)\n",
    "    except:\n",
    "        print(\"It could be something wrong.\")\n",
    "        return 0"
   ]
  },
  {
   "cell_type": "code",
   "execution_count": 7,
   "id": "e12f0c7b",
   "metadata": {},
   "outputs": [],
   "source": [
    "def acm_abstract(url):\n",
    "    try:\n",
    "        response = requests.get(url,timeout=4)\n",
    "        #print(response.status_code)\n",
    "        soup = BeautifulSoup(response.text,\"html.parser\")\n",
    "        elements = soup.find(\"div\", class_=\"abstractSection abstractInFull\") \n",
    "        abstract = elements.text\n",
    "        abstract = abstract.replace('\\n', '') \n",
    "        return(abstract)\n",
    "    except:\n",
    "        print(\"It could be something wrong.\")\n",
    "        return 0"
   ]
  },
  {
   "cell_type": "code",
   "execution_count": 8,
   "id": "43342ea6",
   "metadata": {},
   "outputs": [],
   "source": [
    "def elsevier_data(paper_doi,apikey):\n",
    "    head, sep, tail = paper_doi.partition(\"//doi.org/\")\n",
    "    url=f\"https://api.elsevier.com/content/article/doi/\"+tail\n",
    "    apikey=apikey\n",
    "    headers={\n",
    "        \"X-ELS-APIKey\":apikey,\n",
    "        \"Accept\":'application/json'\n",
    "         }\n",
    "    timeout = httpx.Timeout(10.0, connect=60.0)\n",
    "    client = httpx.Client(timeout=timeout,headers=headers)\n",
    "    query=\"&view=FULL\"\n",
    "    r=client.get(url)\n",
    "    #print(r)\n",
    "    return r"
   ]
  },
  {
   "cell_type": "code",
   "execution_count": 9,
   "id": "557f2346",
   "metadata": {},
   "outputs": [],
   "source": [
    "def elsevier_abstract(url):\n",
    "    y = elsevier_data(url,sciencedirect_apikey)\n",
    "    json_acceptable_string = y.text\n",
    "    d = json.loads(json_acceptable_string)\n",
    "    abstract = d['full-text-retrieval-response']['coredata']['dc:description']\n",
    "    if abstract:\n",
    "        abstract = abstract.strip()\n",
    "        return(abstract)\n",
    "    else:\n",
    "        return 0"
   ]
  },
  {
   "cell_type": "code",
   "execution_count": 10,
   "id": "31b559d0",
   "metadata": {},
   "outputs": [],
   "source": [
    "def springer_abstract(url):\n",
    "    try:\n",
    "        head, sep, tail = url.partition(\"//doi.org/\")\n",
    "        url=f\"http://api.springernature.com/meta/v2/json?q=doi:\"+tail+'&api_key='+springer_key\n",
    "        response = requests.get(url,timeout=4)\n",
    "        #print(response.status_code)\n",
    "        text = response.json()\n",
    "        for i in text[\"records\"]:\n",
    "            abstract = i[\"abstract\"]\n",
    "        return(abstract)\n",
    "    except:\n",
    "        print(\"It could be something wrong.\")\n",
    "        return 0"
   ]
  },
  {
   "cell_type": "code",
   "execution_count": 11,
   "id": "dca3c5e9",
   "metadata": {},
   "outputs": [
    {
     "name": "stdout",
     "output_type": "stream",
     "text": [
      "http://api.springernature.com/meta/v2/json?q=doi:10.1007/978-3-030-37734-2_34&api_key=cccba4267c6bf43583b0e156bae36aa6\n"
     ]
    }
   ],
   "source": [
    "'''\n",
    "combination\n",
    "'''\n",
    "rows = []\n",
    "for u in urls:\n",
    "    url = u\n",
    "    if \"arxiv.org\" in url or \"doi.org/10.48550\" in url:\n",
    "        abstract = arxiv_abstract(url)\n",
    "    elif \"ieeexplore\" in url or \"doi.org/10.1109\" in url:\n",
    "        abstract = ieee_abstract(url)\n",
    "    elif \"dl.acm.org\" in url or \"doi.org/10.1145\" in url:\n",
    "        abstract = acm_abstract(url)\n",
    "    elif \"doi.org/10.1016\" in url: # elsevier\n",
    "        abstract = elsevier_abstract(url)\n",
    "    elif \"doi.org/10.1007\" in url: # Springer\n",
    "        abstract = springer_abstract(url)\n",
    "    else:\n",
    "        abstract = 0\n",
    "    row = { \"url\": url,\"abstract\" : abstract}\n",
    "    rows.append(row)\n",
    "    time.sleep(3)\n",
    "    "
   ]
  },
  {
   "cell_type": "code",
   "execution_count": 12,
   "id": "7a3ea51d",
   "metadata": {},
   "outputs": [
    {
     "data": {
      "text/html": [
       "<div>\n",
       "<style scoped>\n",
       "    .dataframe tbody tr th:only-of-type {\n",
       "        vertical-align: middle;\n",
       "    }\n",
       "\n",
       "    .dataframe tbody tr th {\n",
       "        vertical-align: top;\n",
       "    }\n",
       "\n",
       "    .dataframe thead th {\n",
       "        text-align: right;\n",
       "    }\n",
       "</style>\n",
       "<table border=\"1\" class=\"dataframe\">\n",
       "  <thead>\n",
       "    <tr style=\"text-align: right;\">\n",
       "      <th></th>\n",
       "      <th>url</th>\n",
       "      <th>abstract</th>\n",
       "    </tr>\n",
       "  </thead>\n",
       "  <tbody>\n",
       "    <tr>\n",
       "      <th>0</th>\n",
       "      <td>https://arxiv.org/abs/2108.03555</td>\n",
       "      <td>Background: Accurate diagnosis of skull base ...</td>\n",
       "    </tr>\n",
       "    <tr>\n",
       "      <th>1</th>\n",
       "      <td>https://doi.org/10.1109/AIVR50618.2020.00019</td>\n",
       "      <td>The Virtual Reality Lifelog Explorer is a prot...</td>\n",
       "    </tr>\n",
       "    <tr>\n",
       "      <th>2</th>\n",
       "      <td>https://doi.org/10.1145/3106426.3106490</td>\n",
       "      <td>Emoji have grown to become one of the most imp...</td>\n",
       "    </tr>\n",
       "    <tr>\n",
       "      <th>3</th>\n",
       "      <td>https://doi.org/10.1007/978-3-030-37734-2_34</td>\n",
       "      <td>Continuous media capture via a wearable device...</td>\n",
       "    </tr>\n",
       "    <tr>\n",
       "      <th>4</th>\n",
       "      <td>https://doi.org/10.48550/arXiv.2203.08878</td>\n",
       "      <td>Uncertainty estimation in deep learning has b...</td>\n",
       "    </tr>\n",
       "    <tr>\n",
       "      <th>5</th>\n",
       "      <td>https://dl.acm.org/citation.cfm?id=2799675</td>\n",
       "      <td>This paper describes a casual Facebook game to...</td>\n",
       "    </tr>\n",
       "    <tr>\n",
       "      <th>6</th>\n",
       "      <td>https://ieeexplore.ieee.org/document/7944787</td>\n",
       "      <td>Low-cost mini-drones with advanced sensing and...</td>\n",
       "    </tr>\n",
       "    <tr>\n",
       "      <th>7</th>\n",
       "      <td>https://doi.org/10.1016/j.jksuci.2019.04.004</td>\n",
       "      <td>The life of a Muslim cannot be separated from ...</td>\n",
       "    </tr>\n",
       "  </tbody>\n",
       "</table>\n",
       "</div>"
      ],
      "text/plain": [
       "                                            url  \\\n",
       "0              https://arxiv.org/abs/2108.03555   \n",
       "1  https://doi.org/10.1109/AIVR50618.2020.00019   \n",
       "2       https://doi.org/10.1145/3106426.3106490   \n",
       "3  https://doi.org/10.1007/978-3-030-37734-2_34   \n",
       "4     https://doi.org/10.48550/arXiv.2203.08878   \n",
       "5    https://dl.acm.org/citation.cfm?id=2799675   \n",
       "6  https://ieeexplore.ieee.org/document/7944787   \n",
       "7  https://doi.org/10.1016/j.jksuci.2019.04.004   \n",
       "\n",
       "                                            abstract  \n",
       "0   Background: Accurate diagnosis of skull base ...  \n",
       "1  The Virtual Reality Lifelog Explorer is a prot...  \n",
       "2  Emoji have grown to become one of the most imp...  \n",
       "3  Continuous media capture via a wearable device...  \n",
       "4   Uncertainty estimation in deep learning has b...  \n",
       "5  This paper describes a casual Facebook game to...  \n",
       "6  Low-cost mini-drones with advanced sensing and...  \n",
       "7  The life of a Muslim cannot be separated from ...  "
      ]
     },
     "execution_count": 12,
     "metadata": {},
     "output_type": "execute_result"
    }
   ],
   "source": [
    "df = pd.DataFrame(rows)\n",
    "df"
   ]
  },
  {
   "cell_type": "code",
   "execution_count": null,
   "id": "614d2666",
   "metadata": {},
   "outputs": [],
   "source": [
    "# # Generate a new file with abstract\n",
    "pd.DataFrame(rows).to_csv(\"paper_abstracts.csv\",index=False,encoding=\"utf-8_sig\")"
   ]
  }
 ],
 "metadata": {
  "kernelspec": {
   "display_name": "Python 3",
   "language": "python",
   "name": "python3"
  },
  "language_info": {
   "codemirror_mode": {
    "name": "ipython",
    "version": 3
   },
   "file_extension": ".py",
   "mimetype": "text/x-python",
   "name": "python",
   "nbconvert_exporter": "python",
   "pygments_lexer": "ipython3",
   "version": "3.6.13"
  }
 },
 "nbformat": 4,
 "nbformat_minor": 5
}
